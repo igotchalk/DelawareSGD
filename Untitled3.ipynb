{
 "cells": [
  {
   "cell_type": "code",
   "execution_count": 7,
   "metadata": {},
   "outputs": [
    {
     "data": {
      "text/plain": [
       "['nm_cali.pcg',\n",
       " 'm2k_obs._b',\n",
       " 'm2k_obs._w',\n",
       " 'nm_cali.hob',\n",
       " 'nm_cali.wel',\n",
       " 'nm_cali.mlt',\n",
       " 'm2k_obs._ww',\n",
       " 'nm_cali.glo',\n",
       " 'nm_cali.ghb',\n",
       " 'nm_cali.obs',\n",
       " 'nm_cali_no_out.oc',\n",
       " 'nm_cali.rch',\n",
       " 'nm_cali.zon',\n",
       " 'm2k_obs._nm',\n",
       " 'nm_cali_hyds.hob',\n",
       " 'm2k_obs._r',\n",
       " 'nm_cali.dis',\n",
       " 'nm_cali.nam',\n",
       " 'm2k_obs._os',\n",
       " 'nm_cali.bas',\n",
       " 'nm_cali.sen',\n",
       " 'nm_cali.lst',\n",
       " 'nm_cali_cbc.oc',\n",
       " 'm2k_obs._ws',\n",
       " 'nm_cali.lpf']"
      ]
     },
     "execution_count": 7,
     "metadata": {},
     "output_type": "execute_result"
    }
   ],
   "source": [
    "import os\n",
    "import flopy\n",
    "\n",
    "os.chdir('/Users/ianpg/Documents/ProjectsLocal/DelawareSGD/NMGWM/Calibrated')\n",
    "os.listdir()"
   ]
  },
  {
   "cell_type": "code",
   "execution_count": 8,
   "metadata": {},
   "outputs": [
    {
     "ename": "AttributeError",
     "evalue": "'NoneType' object has no attribute 'unit_number'",
     "output_type": "error",
     "traceback": [
      "\u001b[0;31m---------------------------------------------------------------------------\u001b[0m",
      "\u001b[0;31mAttributeError\u001b[0m                            Traceback (most recent call last)",
      "\u001b[0;32m<ipython-input-8-757554d55944>\u001b[0m in \u001b[0;36m<module>\u001b[0;34m()\u001b[0m\n\u001b[0;32m----> 1\u001b[0;31m \u001b[0mml\u001b[0m \u001b[0;34m=\u001b[0m \u001b[0mflopy\u001b[0m\u001b[0;34m.\u001b[0m\u001b[0mmodflow\u001b[0m\u001b[0;34m.\u001b[0m\u001b[0mModflow\u001b[0m\u001b[0;34m.\u001b[0m\u001b[0mload\u001b[0m\u001b[0;34m(\u001b[0m\u001b[0;34m'nm_cali.nam'\u001b[0m\u001b[0;34m)\u001b[0m\u001b[0;34m\u001b[0m\u001b[0m\n\u001b[0m",
      "\u001b[0;32m~/anaconda/lib/python3.6/site-packages/flopy/modflow/mf.py\u001b[0m in \u001b[0;36mload\u001b[0;34m(f, version, exe_name, verbose, model_ws, load_only, forgive, check)\u001b[0m\n\u001b[1;32m    577\u001b[0m                 \u001b[0munitnumber\u001b[0m \u001b[0;34m=\u001b[0m \u001b[0mext_pkg_d\u001b[0m\u001b[0;34m[\u001b[0m\u001b[0;34m'GLOBAL'\u001b[0m\u001b[0;34m]\u001b[0m\u001b[0;34m\u001b[0m\u001b[0m\n\u001b[1;32m    578\u001b[0m                 \u001b[0mfilepth\u001b[0m \u001b[0;34m=\u001b[0m \u001b[0mos\u001b[0m\u001b[0;34m.\u001b[0m\u001b[0mpath\u001b[0m\u001b[0;34m.\u001b[0m\u001b[0mbasename\u001b[0m\u001b[0;34m(\u001b[0m\u001b[0mext_unit_dict\u001b[0m\u001b[0;34m[\u001b[0m\u001b[0munitnumber\u001b[0m\u001b[0;34m]\u001b[0m\u001b[0;34m.\u001b[0m\u001b[0mfilename\u001b[0m\u001b[0;34m)\u001b[0m\u001b[0;34m\u001b[0m\u001b[0m\n\u001b[0;32m--> 579\u001b[0;31m                 \u001b[0mml\u001b[0m\u001b[0;34m.\u001b[0m\u001b[0mglo\u001b[0m\u001b[0;34m.\u001b[0m\u001b[0munit_number\u001b[0m \u001b[0;34m=\u001b[0m \u001b[0;34m[\u001b[0m\u001b[0munitnumber\u001b[0m\u001b[0;34m]\u001b[0m\u001b[0;34m\u001b[0m\u001b[0m\n\u001b[0m\u001b[1;32m    580\u001b[0m                 \u001b[0mml\u001b[0m\u001b[0;34m.\u001b[0m\u001b[0mglo\u001b[0m\u001b[0;34m.\u001b[0m\u001b[0mfile_name\u001b[0m \u001b[0;34m=\u001b[0m \u001b[0;34m[\u001b[0m\u001b[0mfilepth\u001b[0m\u001b[0;34m]\u001b[0m\u001b[0;34m\u001b[0m\u001b[0m\n\u001b[1;32m    581\u001b[0m             \u001b[0;32melse\u001b[0m\u001b[0;34m:\u001b[0m\u001b[0;34m\u001b[0m\u001b[0m\n",
      "\u001b[0;31mAttributeError\u001b[0m: 'NoneType' object has no attribute 'unit_number'"
     ]
    }
   ],
   "source": [
    "ml = flopy.modflow.Modflow.load('nm_cali.nam')"
   ]
  },
  {
   "cell_type": "code",
   "execution_count": null,
   "metadata": {
    "collapsed": true
   },
   "outputs": [],
   "source": []
  }
 ],
 "metadata": {
  "kernelspec": {
   "display_name": "Python 3",
   "language": "python",
   "name": "python3"
  },
  "language_info": {
   "codemirror_mode": {
    "name": "ipython",
    "version": 3
   },
   "file_extension": ".py",
   "mimetype": "text/x-python",
   "name": "python",
   "nbconvert_exporter": "python",
   "pygments_lexer": "ipython3",
   "version": "3.6.6"
  }
 },
 "nbformat": 4,
 "nbformat_minor": 2
}
