{
 "cells": [
  {
   "cell_type": "code",
   "execution_count": 248,
   "metadata": {
    "collapsed": false
   },
   "outputs": [
    {
     "name": "stdout",
     "output_type": "stream",
     "text": [
      "3.5.5 |Anaconda 4.2.0 (64-bit)| (default, Apr  7 2018, 04:52:34) [MSC v.1900 64 bit (AMD64)]\n",
      "numpy version: 1.15.0\n",
      "flopy version: 3.2.9\n",
      "Base directory: E:/Projects/DelawareSGD\n",
      "Model workspace: E:/Projects/DelawareSGD/work/realdata\n"
     ]
    }
   ],
   "source": [
    "%matplotlib inline\n",
    "import os\n",
    "import sys\n",
    "import numpy as np\n",
    "import matplotlib.pyplot as plt\n",
    "import matplotlib.colors\n",
    "import warnings\n",
    "from pathlib import Path\n",
    "import flopy\n",
    "import SGD\n",
    "print(sys.version)\n",
    "print('numpy version: {}'.format(np.__version__))\n",
    "print('flopy version: {}'.format(flopy.__version__))\n",
    "\n",
    "########\n",
    "modelname = 'realdata'\n",
    "########\n",
    "\n",
    "basedir = Path(os.path.abspath('.'))\n",
    "if not basedir.stem == 'DelawareSGD':\n",
    "    warnings.warn('\\nThis is not the expected directory. \\nPlease run file from directory \".../DelawareSGD\"')\n",
    "\n",
    "model_ws = basedir.joinpath('work',modelname)\n",
    "model_ws_str = model_ws.as_posix()\n",
    "if not model_ws.exists():\n",
    "    model_ws.mkdir()\n",
    "sys.path.append(basedir.as_posix())\n",
    "import config\n",
    "sw_exe = config.swexe\n",
    "print('Base directory:',basedir.as_posix())\n",
    "print('Model workspace:',model_ws_str)"
   ]
  },
  {
   "cell_type": "code",
   "execution_count": 249,
   "metadata": {
    "collapsed": false
   },
   "outputs": [],
   "source": [
    "#Other local functions and imports\n",
    "\n",
    "#nearest value in array\n",
    "def find_nearest(array,value):\n",
    "    import numpy as np\n",
    "    idx = (np.abs(array-value)).argmin()\n",
    "    idx.astype('int')\n",
    "    return array[idx]\n",
    "\n",
    "#take distance in meters, return column in model\n",
    "def loc_to_col(locs):\n",
    "    cols = [int(find_nearest((np.arange(ncol)*delc),loc)) for loc in locs]\n",
    "    return cols"
   ]
  },
  {
   "cell_type": "code",
   "execution_count": 250,
   "metadata": {
    "collapsed": false
   },
   "outputs": [
    {
     "name": "stdout",
     "output_type": "stream",
     "text": [
      "Columns:  Index(['Row', 'Column', 'X', 'Y', 'Z', 'MeterNo', 'Flow', 'EC_IN', 'pctFW',\n",
      "       'FlowFW', 'FlowSW'],\n",
      "      dtype='object')\n"
     ]
    }
   ],
   "source": [
    "#get real data\n",
    "import pandas\n",
    "datadir = basedir.joinpath('data')\n",
    "fname = datadir.joinpath('seepage_flow_2015.xlsx')\n",
    "flowsheet = pandas.read_excel(fname,skiprows=1)\n",
    "print('Columns: ',flowsheet.columns)"
   ]
  },
  {
   "cell_type": "code",
   "execution_count": 414,
   "metadata": {
    "collapsed": true
   },
   "outputs": [],
   "source": [
    "#Model grid\n",
    "#Grid: 0.5 *1*1m • Size:70m*20m\n",
    "        \n",
    "Lx = 70.\n",
    "Lz = 20.\n",
    "nlay = 40\n",
    "nrow = 20\n",
    "ncol = 70\n",
    "ocean_loc = [30,70] # location of ocean [start,end] in m from beginning of model\n",
    "ocean_col = [int(find_nearest((np.arange(ncol)*delc),loc)) for loc in ocean_loc] #grid cell of ocean\n",
    "\n",
    "xul = np.min(flowsheet.X) - 2.5\n",
    "yul = np.max(flowsheet.Y) - ocean_loc[0] - 13.5\n",
    "rotation = 90\n",
    "delr = Lx / ncol\n",
    "delc = 1.0\n",
    "delv = Lz / nlay\n",
    "henry_top = Lz\n",
    "henry_botm = np.linspace(henry_top - delv, 0., nlay)\n",
    "\n",
    "#Period data\n",
    "perlen = [1,100]\n",
    "nstp = [100,100]\n",
    "nper = len(perlen)\n",
    "steady = [True,False]\n",
    "itmuni = 4 #time unit 4= days\n",
    "lenuni = 2 #length unit 2 = meter\n",
    "tsmult = 1\n",
    "ssm_data = None\n",
    "verbose = True"
   ]
  },
  {
   "cell_type": "code",
   "execution_count": 415,
   "metadata": {
    "collapsed": false
   },
   "outputs": [
    {
     "name": "stdout",
     "output_type": "stream",
     "text": [
      "realdata.nam\n",
      "adding Package:  DIS\n"
     ]
    }
   ],
   "source": [
    "#Create basic model instance and dis pacakge\n",
    "m = flopy.seawat.Seawat(modelname, exe_name=sw_exe, model_ws=model_ws.as_posix(),verbose=verbose)\n",
    "SGD.ModelSGD.Seawat2SGD(m)\n",
    "print(m.namefile)\n",
    "\n",
    "# Add DIS package to the MODFLOW model\n",
    "dis = flopy.modflow.ModflowDis(m, nlay, nrow, ncol, nper=nper, delr=delr,\n",
    "                               delc=delc, laycbd=0, top=henry_top,\n",
    "                               botm=henry_botm, perlen=perlen, nstp=nstp,\n",
    "                               steady=steady,itmuni=itmuni,lenuni=lenuni,\n",
    "                               tsmult=tsmult,rotation=rotation, xul=xul, yul=yul)"
   ]
  },
  {
   "cell_type": "code",
   "execution_count": 416,
   "metadata": {
    "collapsed": false
   },
   "outputs": [
    {
     "name": "stderr",
     "output_type": "stream",
     "text": [
      "C:\\Program Files\\Anaconda3\\lib\\site-packages\\ipykernel\\__main__.py:18: FutureWarning: Using a non-tuple sequence for multidimensional indexing is deprecated; use `arr[tuple(seq)]` instead of `arr[seq]`. In the future this will be interpreted as an array index, `arr[np.array(seq)]`, which will result either in an error or a different result.\n"
     ]
    }
   ],
   "source": [
    "#Hydraulic conductivity field \n",
    "hkSand = 80.  #horizontal hydraulic conductivity m/day\n",
    "hkClay = 1. \n",
    "lithmat = hkSand*np.ones((nlay,nrow,ncol), dtype=np.int32) #sandy background\n",
    "addclay_yn = 1\n",
    "\n",
    "\n",
    "def rand_clay_blocks(lithmat,hkClay,numblocks,sizeblocks):\n",
    "    nlay,nrow,ncol = lithmat.shape\n",
    "    lay_block = np.random.randint(1,nlay-sizeblocks[0],numblocks)\n",
    "    row_block = np.random.randint(0,nrow-sizeblocks[1]+1,numblocks)\n",
    "    col_block = np.random.randint(1,ncol-sizeblocks[2],numblocks)\n",
    "    lithmat_blocks = lithmat.copy()\n",
    "    for i in range(numblocks):\n",
    "        block_coords = [slice(lay_block[i],lay_block[i]+sizeblocks[0]),\n",
    "                        slice(row_block[i],row_block[i]+sizeblocks[1]),\n",
    "                        slice(col_block[i],col_block[i]+sizeblocks[2])]\n",
    "        lithmat_blocks[block_coords] = hkClay\n",
    "    return lithmat_blocks\n",
    "\n",
    "#add low conductivity regions\n",
    "if addclay_yn == 1:\n",
    "    lithmat = rand_clay_blocks(lithmat,hkClay,100,(2,2,5))\n",
    "low_k_loc = (20,30)\n",
    "low_k_col = loc_to_col(low_k_loc)\n",
    "#lithmat[1:3,0,0:65] = hkClay"
   ]
  },
  {
   "cell_type": "code",
   "execution_count": 417,
   "metadata": {
    "collapsed": false
   },
   "outputs": [],
   "source": [
    "#Set Hydraulic properties\n",
    "\n",
    "hk = lithmat\n",
    "sy = 0.15\n",
    "ss = 0.00005\n",
    "por = 0.2\n",
    "vka = 1/10 # = vk/hk\n",
    "al = 3 #longitudinal dispersivity, in m\n",
    "#dmcoef = 0.57024 #m2/day  Could also try 1.62925 as another case of the Henry problem\n",
    "dmcoef = 0. #test for numerical dispersion\n",
    "\n",
    "#Variable density parameters\n",
    "Csalt = 35.0001\n",
    "Cfresh = 0.\n",
    "densesalt = 1025.\n",
    "densefresh = 1000.\n",
    "denseslp = (densesalt - densefresh) / (Csalt - Cfresh)"
   ]
  },
  {
   "cell_type": "code",
   "execution_count": 418,
   "metadata": {
    "collapsed": false,
    "scrolled": true
   },
   "outputs": [],
   "source": [
    "#BCs\n",
    "calc_inland_head = 1 #don't calculate from hgrad\n",
    "manual_inland_head = Lz + .1\n",
    "ocean_shead = [Lz,Lz-.5]\n",
    "ocean_ehead = ocean_shead\n",
    "start_fresh_yn = 1\n",
    "\n",
    "# save cell fluxes to unit 53\n",
    "ipakcb = 53\n",
    "\n",
    "#MODFLOW BCs\n",
    "hgrad = 0.0033 #hydraulic gradient, m/m\n",
    "qinflow = 0  #influent FW m3/day\n",
    "\n",
    "#Create ocean boundary at top of model\n",
    "ocean_loc = [30,70] # location of ocean [start,end] in m\n",
    "ocean_col = [int(find_nearest((np.arange(ncol)*delc),loc)) for loc in ocean_loc]\n",
    "ocean_col_vec = (0,0,np.arange(ocean_col[0],ocean_col[1]+1))\n",
    "ocean_coords = (0,slice(0,nrow),slice(ocean_col[0],ocean_col[1]+1)) #top of the model\n",
    "ocean_bool = np.zeros((nlay,nrow,ncol), dtype=bool)\n",
    "ocean_bool[0,:,np.arange(ocean_col[0],ocean_col[1]+1)] = 1\n",
    "m.ocean_arr = ocean_bool\n",
    "if calc_inland_head ==1:\n",
    "    head_inland = ocean_loc[0]*hgrad + Lz\n",
    "else:\n",
    "    head_inland = manual_inland_head\n",
    "\n",
    "\n",
    "#Set ibound\n",
    "ibound = np.ones((nlay, nrow, ncol), dtype=np.int32)\n",
    "ibound[:, :, 0] = -1 #first column (FW boundary) has fixed head\n",
    "ibound[ocean_bool] = -1\n",
    "ibound[0:2,:,ocean_col[0]-3:ocean_col[0]] = 0\n",
    "\n",
    "#Set starting heads\n",
    "strt = head_inland*np.ones((nlay, nrow, ncol)) #starting heads (for fixed head BC, this is will assign the head)\n",
    "strt[ocean_bool] = ocean_shead[0] #head of ocean boundary\n",
    "\n",
    "#Transport BCs\n",
    "if start_fresh_yn == 1:\n",
    "    sconc = Cfresh*np.ones((nlay, nrow, ncol), dtype=np.float32) #Begin fresh\n",
    "elif start_fresh_yn == 0:\n",
    "    sconc = Csalt*np.ones((nlay, nrow, ncol), dtype=np.float32) #Begin SW-saturated\n",
    "\n",
    "sconc[ocean_bool] = Csalt\n",
    "sconc[:,:,0] = Cfresh\n",
    "\n",
    "icbund = np.ones((nlay, nrow, ncol), dtype=np.int) \n",
    "icbund[(ibound < 0)] = -1 #constant concentration cells where also constant head\n",
    "\n",
    "#Constant head boundary\n",
    "stress_period_data = {}\n",
    "ocean_sub = np.where(ocean_bool)\n",
    "for i in range(nper):\n",
    "    dat = []\n",
    "    for j in range(np.sum(ocean_bool)):\n",
    "        dat.append([ocean_sub[0][j],ocean_sub[1][j],ocean_sub[2][j],ocean_shead[i],ocean_ehead[i]])\n",
    "    stress_period_data[i] = dat"
   ]
  },
  {
   "cell_type": "code",
   "execution_count": 419,
   "metadata": {
    "collapsed": false
   },
   "outputs": [
    {
     "name": "stdout",
     "output_type": "stream",
     "text": [
      "adding Package:  BAS6\n",
      "Adding realdata.cbc (unit=53) to the output list.\n",
      "adding Package:  LPF\n",
      "adding Package:  PCG\n",
      "Adding realdata.hds (unit=51) to the output list.\n",
      "adding Package:  OC\n",
      "adding Package:  BTN\n",
      "adding Package:  ADV\n",
      "adding Package:  DSP\n",
      "adding Package:  GCG\n",
      "adding Package:  SSM\n",
      "adding Package:  CHD\n",
      "adding Package:  VDF\n"
     ]
    }
   ],
   "source": [
    "#Create instances in flopy\n",
    "\n",
    "bas = flopy.modflow.ModflowBas(m, ibound, strt=strt)\n",
    "\n",
    "# Add LPF package to the MODFLOW model\n",
    "lpf = flopy.modflow.ModflowLpf(m, hk=hk, vka=vka, ipakcb=ipakcb, ss=ss, sy=sy)\n",
    "\n",
    "# Add PCG Package to the MODFLOW model\n",
    "pcg = flopy.modflow.ModflowPcg(m, hclose=1.e-8)\n",
    "\n",
    "# Add OC package to the MODFLOW model\n",
    "oc = flopy.modflow.ModflowOc(m,\n",
    "                             stress_period_data={(0, 0): ['save head', 'save budget']},\n",
    "                             compact=True)\n",
    "#wel = flopy.modflow.ModflowWel(m, stress_period_data=wel_data, ipakcb=ipakcb)\n",
    "\n",
    "#Create the basic MT3DMS model structure\n",
    "btn = flopy.mt3d.Mt3dBtn(m, \n",
    "                         #nlay=nlay, nrow=nrow, ncol=ncol, nper=nper, \n",
    "                         laycon=lpf.laytyp, htop=henry_top, \n",
    "                         dz=dis.thickness.get_value(), prsity=0.2, icbund=icbund,\n",
    "                         sconc=sconc, nprs=-10)\n",
    "adv = flopy.mt3d.Mt3dAdv(m, mixelm=0)\n",
    "dsp = flopy.mt3d.Mt3dDsp(m, al=al, trpt=1., trpv=1., dmcoef=dmcoef)\n",
    "gcg = flopy.mt3d.Mt3dGcg(m, iter1=500, mxiter=1, isolve=1, cclose=1e-7)\n",
    "ssm = flopy.mt3d.Mt3dSsm(m, stress_period_data=ssm_data)\n",
    "chd = flopy.modflow.ModflowChd(m, stress_period_data=stress_period_data)\n",
    "#vdf = flopy.seawat.SeawatVdf(m, iwtable=0, densemin=0, densemax=0,denseref=1000., denseslp=0.7143, firstdt=1e-3)\n",
    "vdf = flopy.seawat.SeawatVdf(m, mtdnconc=1, mfnadvfd=1, nswtcpl=0, iwtable=0, \n",
    "                             densemin=0., densemax=0., denseslp=denseslp, denseref=densefresh)\n"
   ]
  },
  {
   "cell_type": "code",
   "execution_count": 455,
   "metadata": {
    "collapsed": false
   },
   "outputs": [],
   "source": [
    "#y : list of cell y-centroids\n",
    "#x : list of cell x-centroids\n",
    "#z : array of floats (nlay, nrow, ncol)\n",
    "x,y,z = dis.get_node_coordinates()\n",
    "y = y + yul\n",
    "x = xul + x\n",
    "xpos = flowsheet.X\n",
    "ypos = flowsheet.Y\n",
    "xnode = []\n",
    "ynode = []\n",
    "for i in range(xpos.size):\n",
    "    xnode.append([j for j in range(x.size) if np.abs(xpos[i]-x[j])<=delr/2][-1])\n",
    "    ynode.append([j for j in range(y.size) if np.abs(ypos[i]-y[j])<=delc/2][-1])\n",
    "xnode = np.asarray(xnode).astype(int)\n",
    "ynode = np.asarray(ynode).astype(int)"
   ]
  },
  {
   "cell_type": "code",
   "execution_count": 456,
   "metadata": {
    "collapsed": false,
    "scrolled": true
   },
   "outputs": [
    {
     "name": "stdout",
     "output_type": "stream",
     "text": [
      "X:  (488928.0, 488948.0)\n",
      "Y:  (4271431.9, 4271501.9)\n"
     ]
    },
    {
     "data": {
      "image/png": "[encoded data removed]",
      "text/plain": [
       "<Figure size 720x720 with 1 Axes>"
      ]
     },
     "metadata": {},
     "output_type": "display_data"
    }
   ],
   "source": [
    "f = plt.figure(figsize=(10,10))\n",
    "plt.clf()\n",
    "ax = f.add_subplot(1, 1, 1)\n",
    "mm = flopy.plot.ModelMap(ax=ax,model=m,dis=m.dis)\n",
    "a = np.zeros((nlay,nrow,ncol))\n",
    "a[0,xnode,ynode]=1\n",
    "am = np.ma.masked_array(a,mask=a==0)\n",
    "linecollection = mm.plot_grid();\n",
    "patchcollection = mm.plot_ibound();\n",
    "print('X: ',linecollection.axes.get_xbound())\n",
    "print('Y: ',linecollection.axes.get_ybound())\n",
    "mm.plot_array(am)\n",
    "ax.set_aspect('equal', 'datalim')"
   ]
  },
  {
   "cell_type": "code",
   "execution_count": 425,
   "metadata": {
    "collapsed": false
   },
   "outputs": [
    {
     "data": {
      "image/png": "[encoded data removed]",
      "text/plain": [
       "<Figure size 1080x360 with 3 Axes>"
      ]
     },
     "metadata": {},
     "output_type": "display_data"
    }
   ],
   "source": [
    "m.plot_hk_ibound(rowslice=2)"
   ]
  },
  {
   "cell_type": "code",
   "execution_count": 463,
   "metadata": {
    "collapsed": false
   },
   "outputs": [
    {
     "ename": "AttributeError",
     "evalue": "'str' object has no attribute 'as_posix'",
     "output_type": "error",
     "traceback": [
      "\u001b[0;31m---------------------------------------------------------------------------\u001b[0m",
      "\u001b[0;31mAttributeError\u001b[0m                            Traceback (most recent call last)",
      "\u001b[0;32m<ipython-input-463-a2379bf0fd3b>\u001b[0m in \u001b[0;36m<module>\u001b[0;34m()\u001b[0m\n\u001b[1;32m     13\u001b[0m \u001b[1;33m\u001b[0m\u001b[0m\n\u001b[1;32m     14\u001b[0m \u001b[1;33m\u001b[0m\u001b[0m\n\u001b[0;32m---> 15\u001b[0;31m \u001b[0mwrite_obs\u001b[0m\u001b[1;33m(\u001b[0m\u001b[0mself\u001b[0m\u001b[1;33m,\u001b[0m\u001b[0mobs_array\u001b[0m\u001b[1;33m)\u001b[0m\u001b[1;33m\u001b[0m\u001b[0m\n\u001b[0m\u001b[1;32m     16\u001b[0m \u001b[1;33m\u001b[0m\u001b[0m\n",
      "\u001b[0;32m<ipython-input-463-a2379bf0fd3b>\u001b[0m in \u001b[0;36mwrite_obs\u001b[0;34m(self, obs_array, suffix)\u001b[0m\n\u001b[1;32m     10\u001b[0m                        .format(obs_tup[0][i],obs_tup[1][i],obs_tup[2][i],obs_tup[3][i]))\n\u001b[1;32m     11\u001b[0m         \u001b[0mfout\u001b[0m\u001b[1;33m.\u001b[0m\u001b[0mclose\u001b[0m\u001b[1;33m(\u001b[0m\u001b[1;33m)\u001b[0m\u001b[1;33m\u001b[0m\u001b[0m\n\u001b[0;32m---> 12\u001b[0;31m         \u001b[0mprint\u001b[0m\u001b[1;33m(\u001b[0m\u001b[1;34m'output FILE WRITTEN: '\u001b[0m \u001b[1;33m+\u001b[0m \u001b[0mos\u001b[0m\u001b[1;33m.\u001b[0m\u001b[0mpath\u001b[0m\u001b[1;33m.\u001b[0m\u001b[0mjoin\u001b[0m\u001b[1;33m(\u001b[0m\u001b[0mself\u001b[0m\u001b[1;33m.\u001b[0m\u001b[0mmodel_ws\u001b[0m\u001b[1;33m.\u001b[0m\u001b[0mas_posix\u001b[0m\u001b[1;33m(\u001b[0m\u001b[1;33m)\u001b[0m\u001b[1;33m,\u001b[0m \u001b[0mfname\u001b[0m\u001b[1;33m)\u001b[0m\u001b[1;33m)\u001b[0m\u001b[1;33m\u001b[0m\u001b[0m\n\u001b[0m\u001b[1;32m     13\u001b[0m \u001b[1;33m\u001b[0m\u001b[0m\n\u001b[1;32m     14\u001b[0m \u001b[1;33m\u001b[0m\u001b[0m\n",
      "\u001b[0;31mAttributeError\u001b[0m: 'str' object has no attribute 'as_posix'"
     ]
    }
   ],
   "source": [
    "obs_tup = (flowsheet.Flow.as_matrix(),np.zeros(xnode.size,dtype=int),xnode,ynode)\n",
    "self = m\n",
    "def write_obs(self,obs_array,suffix='.obs'):\n",
    "        fname = 'flux' + suffix\n",
    "        fout= open(os.path.join(self.model_ws,fname),\"w\")\n",
    "        fout.write('Values are zero-based \\n')\n",
    "        fout.write('{:14s} {:4s} {:4s} {:4s} \\n'.format(\"flux\", \"lay\",\"row\", \"col\"))\n",
    "        for i in range(len(obs_tup[0])):\n",
    "            fout.write('{:14.4e} {:4d} {:4d} {:4d}\\n'\n",
    "                       .format(obs_tup[0][i],obs_tup[1][i],obs_tup[2][i],obs_tup[3][i]))\n",
    "        fout.close()\n",
    "        print('output FILE WRITTEN: ' + os.path.join(self.model_ws.as_posix(), fname))\n",
    "\n",
    "    \n",
    "write_obs(self,obs_array)\n",
    "    "
   ]
  },
  {
   "cell_type": "code",
   "execution_count": 461,
   "metadata": {
    "collapsed": false
   },
   "outputs": [
    {
     "data": {
      "text/plain": [
       "(array([ 6.27018323, 23.50838634, 47.73658573, 63.1256284 , 33.11499485,\n",
       "        24.23926464, 32.38351468, 44.97284409, 39.49768024, 29.91957486,\n",
       "        57.63760348, 58.34845761,  9.63760818, 12.48785055, 55.30033077,\n",
       "        55.60079229, 84.8112371 , 21.37092561, 20.37218306, 11.59154953,\n",
       "        20.1004071 , 25.17694793, 15.85957314, 11.81000004, 17.53001643,\n",
       "        39.52848555, 26.30738153,  7.76560905,  9.23813193,  8.60400683]),\n",
       " array([0, 0, 0, 0, 0, 0, 0, 0, 0, 0, 0, 0, 0, 0, 0, 0, 0, 0, 0, 0, 0, 0,\n",
       "        0, 0, 0, 0, 0, 0, 0, 0]),\n",
       " array([16, 14, 11,  8,  5,  2, 16, 14, 11,  9,  6,  2, 17, 14, 11,  9,  6,\n",
       "         3, 17, 14, 11,  8,  6,  3, 17, 14, 11,  8,  6,  3]),\n",
       " array([32, 32, 32, 32, 32, 32, 34, 34, 34, 35, 34, 35, 37, 37, 37, 38, 38,\n",
       "        38, 40, 40, 40, 40, 40, 40, 43, 43, 43, 43, 43, 43]))"
      ]
     },
     "execution_count": 461,
     "metadata": {},
     "output_type": "execute_result"
    }
   ],
   "source": [
    "(flowsheet.Flow.as_matrix(),np.zeros(xnode.size,dtype=int),xnode,ynode)"
   ]
  },
  {
   "cell_type": "code",
   "execution_count": 445,
   "metadata": {
    "collapsed": false
   },
   "outputs": [
    {
     "data": {
      "text/plain": [
       "array([16, 14, 11,  8,  5,  2, 16, 14, 11,  9,  6,  2, 17, 14, 11,  9,  6,\n",
       "        3, 17, 14, 11,  8,  6,  3, 17, 14, 11,  8,  6,  3])"
      ]
     },
     "execution_count": 445,
     "metadata": {},
     "output_type": "execute_result"
    }
   ],
   "source": [
    "xnode"
   ]
  },
  {
   "cell_type": "code",
   "execution_count": null,
   "metadata": {
    "collapsed": true
   },
   "outputs": [],
   "source": []
  },
  {
   "cell_type": "code",
   "execution_count": null,
   "metadata": {
    "collapsed": true
   },
   "outputs": [],
   "source": []
  },
  {
   "cell_type": "code",
   "execution_count": null,
   "metadata": {
    "collapsed": true
   },
   "outputs": [],
   "source": []
  },
  {
   "cell_type": "code",
   "execution_count": null,
   "metadata": {
    "collapsed": true
   },
   "outputs": [],
   "source": []
  },
  {
   "cell_type": "code",
   "execution_count": null,
   "metadata": {
    "collapsed": true
   },
   "outputs": [],
   "source": []
  },
  {
   "cell_type": "code",
   "execution_count": null,
   "metadata": {
    "collapsed": true
   },
   "outputs": [],
   "source": []
  },
  {
   "cell_type": "code",
   "execution_count": null,
   "metadata": {
    "collapsed": true
   },
   "outputs": [],
   "source": []
  },
  {
   "cell_type": "code",
   "execution_count": null,
   "metadata": {
    "collapsed": true
   },
   "outputs": [],
   "source": []
  },
  {
   "cell_type": "code",
   "execution_count": null,
   "metadata": {
    "collapsed": true
   },
   "outputs": [],
   "source": []
  },
  {
   "cell_type": "code",
   "execution_count": null,
   "metadata": {
    "collapsed": true
   },
   "outputs": [],
   "source": []
  }
 ],
 "metadata": {
  "kernelspec": {
   "display_name": "Python [default]",
   "language": "python",
   "name": "python3"
  },
  "language_info": {
   "codemirror_mode": {
    "name": "ipython",
    "version": 3
   },
   "file_extension": ".py",
   "mimetype": "text/x-python",
   "name": "python",
   "nbconvert_exporter": "python",
   "pygments_lexer": "ipython3",
   "version": "3.5.5"
  }
 },
 "nbformat": 4,
 "nbformat_minor": 2
}
